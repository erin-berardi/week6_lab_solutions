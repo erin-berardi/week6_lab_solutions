{
 "cells": [
  {
   "cell_type": "markdown",
   "metadata": {},
   "source": [
    "## Playlists"
   ]
  },
  {
   "cell_type": "code",
   "execution_count": 1,
   "metadata": {},
   "outputs": [],
   "source": [
    "import pandas as pd\n",
    "import spotipy\n",
    "from spotipy.oauth2 import SpotifyClientCredentials"
   ]
  },
  {
   "cell_type": "code",
   "execution_count": 2,
   "metadata": {},
   "outputs": [],
   "source": [
    "secrets_file = open(\"/Users/erinberardi/Erin_dataV2-labs/SpotifySecret.txt\",\"r\")"
   ]
  },
  {
   "cell_type": "code",
   "execution_count": 3,
   "metadata": {},
   "outputs": [],
   "source": [
    "string = secrets_file.read()"
   ]
  },
  {
   "cell_type": "code",
   "execution_count": 4,
   "metadata": {},
   "outputs": [],
   "source": [
    "secrets_dict={}\n",
    "for line in string.split('\\n'):\n",
    "    if len(line)>0:\n",
    "        secrets_dict[line.split(':')[0]]=line.split(':')[1]"
   ]
  },
  {
   "cell_type": "code",
   "execution_count": 5,
   "metadata": {},
   "outputs": [],
   "source": [
    "sp = spotipy.Spotify(auth_manager=SpotifyClientCredentials(client_id=secrets_dict['cid'],client_secret=secrets_dict['cs']))"
   ]
  },
  {
   "cell_type": "code",
   "execution_count": 6,
   "metadata": {},
   "outputs": [],
   "source": [
    "from time import sleep\n",
    "from random import randint\n",
    "\n",
    "playlists = {'top2000':'37i9dQZF1DWTmvXBN4DgpA','All 80s':'1y2WMKnxWDualAaqRgHOXf','All 90s':'37i9dQZF1DXbTxeAdrVG2l','rock top 500':'06ye9lYBlxKIAiueSO7BVy','2000-2021':'5rA2OHJUxeIqwRVrVZ2Wa0','country':'37i9dQZF1DWZBCPUIUs2iR','dance':'06S64oWn7uGnfGrwjh5IWb','All 00s':'0098gmqDhZTMCeGxXUBghm','most popular':'4o8NBsWreC3OnKePUYw0dg','Dutch hits':'78ZjgERKMglgYbqgJQZUFP'}\n",
    "    \n",
    "def all_tracks_playlist(id):\n",
    "    results = sp.user_playlist_tracks(\"Spotify\",id)\n",
    "    tracks = results['items']\n",
    "    while results['next'] != None:\n",
    "        results = sp.next(results)\n",
    "        tracks = tracks + results['items']\n",
    "        sleep(randint(1,2))\n",
    "    return tracks\n",
    "\n",
    "playlists_full =[]\n",
    "\n",
    "for key in playlists.keys():\n",
    "    playlists_full= playlists_full + (all_tracks_playlist(playlists[key]))"
   ]
  },
  {
   "cell_type": "code",
   "execution_count": 7,
   "metadata": {},
   "outputs": [
    {
     "data": {
      "text/plain": [
       "10143"
      ]
     },
     "execution_count": 7,
     "metadata": {},
     "output_type": "execute_result"
    }
   ],
   "source": [
    "len(playlists_full)"
   ]
  },
  {
   "cell_type": "code",
   "execution_count": 8,
   "metadata": {},
   "outputs": [],
   "source": [
    "songs = [playlists_full[i]['track']['name'] for i in range(len(playlists_full))]"
   ]
  },
  {
   "cell_type": "code",
   "execution_count": 9,
   "metadata": {},
   "outputs": [],
   "source": [
    "#songs"
   ]
  },
  {
   "cell_type": "code",
   "execution_count": 10,
   "metadata": {},
   "outputs": [],
   "source": [
    "artist = [playlists_full[i]['track']['artists'][0]['name'] for i in range(len(playlists_full))]"
   ]
  },
  {
   "cell_type": "code",
   "execution_count": 11,
   "metadata": {},
   "outputs": [],
   "source": [
    "url = [playlists_full[i]['track']['external_urls']['spotify'] for i in range(len(playlists_full))]"
   ]
  },
  {
   "cell_type": "code",
   "execution_count": 12,
   "metadata": {},
   "outputs": [],
   "source": [
    "song_uri = [playlists_full[i][\"track\"][\"uri\"] for i in range(len(playlists_full))]"
   ]
  },
  {
   "cell_type": "code",
   "execution_count": 13,
   "metadata": {},
   "outputs": [],
   "source": [
    "song_features = [sp.audio_features(i) for i in song_uri]"
   ]
  },
  {
   "cell_type": "code",
   "execution_count": 14,
   "metadata": {},
   "outputs": [],
   "source": [
    "import pandas as pd\n",
    "song_features_df = pd.DataFrame(song_features)"
   ]
  },
  {
   "cell_type": "code",
   "execution_count": 15,
   "metadata": {},
   "outputs": [],
   "source": [
    "song_features_df = song_features_df.rename(columns= {0:'features'})"
   ]
  },
  {
   "cell_type": "code",
   "execution_count": 16,
   "metadata": {},
   "outputs": [
    {
     "data": {
      "text/plain": [
       "{'danceability': 0.392,\n",
       " 'energy': 0.402,\n",
       " 'key': 0,\n",
       " 'loudness': -9.961,\n",
       " 'mode': 0,\n",
       " 'speechiness': 0.0536,\n",
       " 'acousticness': 0.288,\n",
       " 'instrumentalness': 0,\n",
       " 'liveness': 0.243,\n",
       " 'valence': 0.228,\n",
       " 'tempo': 143.883,\n",
       " 'type': 'audio_features',\n",
       " 'id': '7tFiyTwD0nx5a1eklYtX2J',\n",
       " 'uri': 'spotify:track:7tFiyTwD0nx5a1eklYtX2J',\n",
       " 'track_href': 'https://api.spotify.com/v1/tracks/7tFiyTwD0nx5a1eklYtX2J',\n",
       " 'analysis_url': 'https://api.spotify.com/v1/audio-analysis/7tFiyTwD0nx5a1eklYtX2J',\n",
       " 'duration_ms': 354320,\n",
       " 'time_signature': 4}"
      ]
     },
     "execution_count": 16,
     "metadata": {},
     "output_type": "execute_result"
    }
   ],
   "source": [
    "song_features_df['features'][0]"
   ]
  },
  {
   "cell_type": "code",
   "execution_count": 17,
   "metadata": {},
   "outputs": [],
   "source": [
    "danceability = [song_features_df['features'][i]['danceability'] for i in range(len(song_features_df))]\n",
    "energy = [song_features_df['features'][i]['energy'] for i in range(len(song_features_df))]\n",
    "key = [song_features_df['features'][i]['key'] for i in range(len(song_features_df))]\n",
    "loudness = [song_features_df['features'][i]['loudness'] for i in range(len(song_features_df))]\n",
    "mode = [song_features_df['features'][i]['mode'] for i in range(len(song_features_df))]\n",
    "speechiness = [song_features_df['features'][i]['speechiness'] for i in range(len(song_features_df))]\n",
    "acousticness = [song_features_df['features'][i]['acousticness'] for i in range(len(song_features_df))]\n",
    "instrumentalness = [song_features_df['features'][i]['instrumentalness'] for i in range(len(song_features_df))]\n",
    "liveness = [song_features_df['features'][i]['liveness'] for i in range(len(song_features_df))]\n",
    "valence = [song_features_df['features'][i]['valence'] for i in range(len(song_features_df))]\n",
    "tempo = [song_features_df['features'][i]['tempo'] for i in range(len(song_features_df))]\n",
    "duration_ms = [song_features_df['features'][i]['duration_ms'] for i in range(len(song_features_df))]\n",
    "uri = [song_features_df['features'][i]['id'] for i in range(len(song_features_df))]"
   ]
  },
  {
   "cell_type": "code",
   "execution_count": 18,
   "metadata": {},
   "outputs": [],
   "source": [
    "df_song_feature = pd.DataFrame({'song_title':songs,'artists':artist,'uri':uri,'danceability':danceability,'energy':energy,'key':key,'loudness':loudness,'mode':mode,'speechiness':speechiness,'acousticness':acousticness,'instrumentalness':instrumentalness,'liveness':liveness,'valence':valence,'tempo':tempo,'duration_ms':duration_ms,'url':url})"
   ]
  },
  {
   "cell_type": "code",
   "execution_count": 19,
   "metadata": {},
   "outputs": [
    {
     "data": {
      "text/html": [
       "<div>\n",
       "<style scoped>\n",
       "    .dataframe tbody tr th:only-of-type {\n",
       "        vertical-align: middle;\n",
       "    }\n",
       "\n",
       "    .dataframe tbody tr th {\n",
       "        vertical-align: top;\n",
       "    }\n",
       "\n",
       "    .dataframe thead th {\n",
       "        text-align: right;\n",
       "    }\n",
       "</style>\n",
       "<table border=\"1\" class=\"dataframe\">\n",
       "  <thead>\n",
       "    <tr style=\"text-align: right;\">\n",
       "      <th></th>\n",
       "      <th>song_title</th>\n",
       "      <th>artists</th>\n",
       "      <th>uri</th>\n",
       "      <th>danceability</th>\n",
       "      <th>energy</th>\n",
       "      <th>key</th>\n",
       "      <th>loudness</th>\n",
       "      <th>mode</th>\n",
       "      <th>speechiness</th>\n",
       "      <th>acousticness</th>\n",
       "      <th>instrumentalness</th>\n",
       "      <th>liveness</th>\n",
       "      <th>valence</th>\n",
       "      <th>tempo</th>\n",
       "      <th>duration_ms</th>\n",
       "      <th>url</th>\n",
       "    </tr>\n",
       "  </thead>\n",
       "  <tbody>\n",
       "    <tr>\n",
       "      <th>0</th>\n",
       "      <td>Bohemian Rhapsody - Remastered 2011</td>\n",
       "      <td>Queen</td>\n",
       "      <td>7tFiyTwD0nx5a1eklYtX2J</td>\n",
       "      <td>0.392</td>\n",
       "      <td>0.402</td>\n",
       "      <td>0</td>\n",
       "      <td>-9.961</td>\n",
       "      <td>0</td>\n",
       "      <td>0.0536</td>\n",
       "      <td>0.28800</td>\n",
       "      <td>0.000000</td>\n",
       "      <td>0.2430</td>\n",
       "      <td>0.228</td>\n",
       "      <td>143.883</td>\n",
       "      <td>354320</td>\n",
       "      <td>https://open.spotify.com/track/7tFiyTwD0nx5a1e...</td>\n",
       "    </tr>\n",
       "    <tr>\n",
       "      <th>1</th>\n",
       "      <td>Roller Coaster</td>\n",
       "      <td>Danny Vera</td>\n",
       "      <td>5B5YKjgne3TZzNpMsN9aj1</td>\n",
       "      <td>0.401</td>\n",
       "      <td>0.383</td>\n",
       "      <td>9</td>\n",
       "      <td>-10.048</td>\n",
       "      <td>1</td>\n",
       "      <td>0.0279</td>\n",
       "      <td>0.51000</td>\n",
       "      <td>0.007800</td>\n",
       "      <td>0.1210</td>\n",
       "      <td>0.285</td>\n",
       "      <td>96.957</td>\n",
       "      <td>269986</td>\n",
       "      <td>https://open.spotify.com/track/5B5YKjgne3TZzNp...</td>\n",
       "    </tr>\n",
       "    <tr>\n",
       "      <th>2</th>\n",
       "      <td>Hotel California - 2013 Remaster</td>\n",
       "      <td>Eagles</td>\n",
       "      <td>40riOy7x9W7GXjyGp4pjAv</td>\n",
       "      <td>0.579</td>\n",
       "      <td>0.508</td>\n",
       "      <td>2</td>\n",
       "      <td>-9.484</td>\n",
       "      <td>1</td>\n",
       "      <td>0.0270</td>\n",
       "      <td>0.00574</td>\n",
       "      <td>0.000494</td>\n",
       "      <td>0.0575</td>\n",
       "      <td>0.609</td>\n",
       "      <td>147.125</td>\n",
       "      <td>391376</td>\n",
       "      <td>https://open.spotify.com/track/40riOy7x9W7GXjy...</td>\n",
       "    </tr>\n",
       "    <tr>\n",
       "      <th>3</th>\n",
       "      <td>Piano Man</td>\n",
       "      <td>Billy Joel</td>\n",
       "      <td>3FCto7hnn1shUyZL42YgfO</td>\n",
       "      <td>0.334</td>\n",
       "      <td>0.472</td>\n",
       "      <td>0</td>\n",
       "      <td>-8.791</td>\n",
       "      <td>1</td>\n",
       "      <td>0.0277</td>\n",
       "      <td>0.60000</td>\n",
       "      <td>0.000004</td>\n",
       "      <td>0.3170</td>\n",
       "      <td>0.431</td>\n",
       "      <td>179.173</td>\n",
       "      <td>336093</td>\n",
       "      <td>https://open.spotify.com/track/3FCto7hnn1shUyZ...</td>\n",
       "    </tr>\n",
       "    <tr>\n",
       "      <th>4</th>\n",
       "      <td>Fix You</td>\n",
       "      <td>Coldplay</td>\n",
       "      <td>7LVHVU3tWfcxj5aiPFEW4Q</td>\n",
       "      <td>0.209</td>\n",
       "      <td>0.417</td>\n",
       "      <td>3</td>\n",
       "      <td>-8.740</td>\n",
       "      <td>1</td>\n",
       "      <td>0.0338</td>\n",
       "      <td>0.16400</td>\n",
       "      <td>0.001960</td>\n",
       "      <td>0.1130</td>\n",
       "      <td>0.124</td>\n",
       "      <td>138.178</td>\n",
       "      <td>295533</td>\n",
       "      <td>https://open.spotify.com/track/7LVHVU3tWfcxj5a...</td>\n",
       "    </tr>\n",
       "  </tbody>\n",
       "</table>\n",
       "</div>"
      ],
      "text/plain": [
       "                            song_title     artists                     uri  \\\n",
       "0  Bohemian Rhapsody - Remastered 2011       Queen  7tFiyTwD0nx5a1eklYtX2J   \n",
       "1                       Roller Coaster  Danny Vera  5B5YKjgne3TZzNpMsN9aj1   \n",
       "2     Hotel California - 2013 Remaster      Eagles  40riOy7x9W7GXjyGp4pjAv   \n",
       "3                            Piano Man  Billy Joel  3FCto7hnn1shUyZL42YgfO   \n",
       "4                              Fix You    Coldplay  7LVHVU3tWfcxj5aiPFEW4Q   \n",
       "\n",
       "   danceability  energy  key  loudness  mode  speechiness  acousticness  \\\n",
       "0         0.392   0.402    0    -9.961     0       0.0536       0.28800   \n",
       "1         0.401   0.383    9   -10.048     1       0.0279       0.51000   \n",
       "2         0.579   0.508    2    -9.484     1       0.0270       0.00574   \n",
       "3         0.334   0.472    0    -8.791     1       0.0277       0.60000   \n",
       "4         0.209   0.417    3    -8.740     1       0.0338       0.16400   \n",
       "\n",
       "   instrumentalness  liveness  valence    tempo  duration_ms  \\\n",
       "0          0.000000    0.2430    0.228  143.883       354320   \n",
       "1          0.007800    0.1210    0.285   96.957       269986   \n",
       "2          0.000494    0.0575    0.609  147.125       391376   \n",
       "3          0.000004    0.3170    0.431  179.173       336093   \n",
       "4          0.001960    0.1130    0.124  138.178       295533   \n",
       "\n",
       "                                                 url  \n",
       "0  https://open.spotify.com/track/7tFiyTwD0nx5a1e...  \n",
       "1  https://open.spotify.com/track/5B5YKjgne3TZzNp...  \n",
       "2  https://open.spotify.com/track/40riOy7x9W7GXjy...  \n",
       "3  https://open.spotify.com/track/3FCto7hnn1shUyZ...  \n",
       "4  https://open.spotify.com/track/7LVHVU3tWfcxj5a...  "
      ]
     },
     "execution_count": 19,
     "metadata": {},
     "output_type": "execute_result"
    }
   ],
   "source": [
    "df_song_feature.head()"
   ]
  },
  {
   "cell_type": "code",
   "execution_count": 20,
   "metadata": {},
   "outputs": [],
   "source": [
    "df_song_feature.to_csv('spotify_features.csv', index = False)"
   ]
  },
  {
   "cell_type": "code",
   "execution_count": null,
   "metadata": {},
   "outputs": [],
   "source": []
  }
 ],
 "metadata": {
  "kernelspec": {
   "display_name": "Python 3",
   "language": "python",
   "name": "python3"
  },
  "language_info": {
   "codemirror_mode": {
    "name": "ipython",
    "version": 3
   },
   "file_extension": ".py",
   "mimetype": "text/x-python",
   "name": "python",
   "nbconvert_exporter": "python",
   "pygments_lexer": "ipython3",
   "version": "3.8.3"
  }
 },
 "nbformat": 4,
 "nbformat_minor": 5
}
